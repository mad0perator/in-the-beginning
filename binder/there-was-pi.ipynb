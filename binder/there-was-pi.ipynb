{
  "cells": [
    {
      "cell_type": "raw",
      "metadata": {},
      "source": [
        "---\n",
        "title: ...there was $\\Pi$\n",
        "author: mad0perator\n",
        "email: mad0perator.creationlounge@gmail.com\n",
        "repo: 'https://github.com/mad0perator/in-the-beginning'\n",
        "date: 'February 24, 2023'\n",
        "version: 0.0.1\n",
        "execute:\n",
        "  output: asis\n",
        "---"
      ]
    },
    {
      "cell_type": "markdown",
      "metadata": {},
      "source": [
        "A mythological investigation of Egyptian sermons, Biblical scripture\n",
        "as well as Babylonian and Sumerian excerpts led me to the hypothesis that\n",
        "Pi was encoded in the first chapter of Genesis.\n",
        "\n",
        "For this examination, we will focus only on demonstrable computations an observations with no conjectures or conclusions.\n",
        "\n",
        "\n",
        "Background\n",
        "----------\n",
        "\n",
        "### The Language\n",
        "\n",
        "Hebrew is an ancient Semitic language that has been spoken for over 3,000 years. It was originally written using a script known as *Paleo-Hebrew*[^ph] which consisted of 22 letters and was used until around the 5^th^ century BC. Hebrew was primarily a spoken language Israelites used to communicate to one another.\n",
        "\n",
        "```{mermaid}\n",
        "%%| label: fig-semitic-tree\n",
        "%%| fig-cap: \"The Semitic Language Family\"\n",
        "flowchart TD\n",
        "  sem(Semitic)\n",
        "  sem --- arb(Arabic)\n",
        "  sem --- arc(Aramaic)\n",
        "  sem --- heb(Hebrew)\n",
        "  %% Arabic\n",
        "  arb --- eth(Ethiopic)\n",
        "  arb --- amh(Amharic)\n",
        "  %% Aramaic\n",
        "  arc --- syr(Syriac)\n",
        "  arc --- man(Mandaic)\n",
        "  arc --- chl(Chaldaic)\n",
        "  %% Hebrew\n",
        "  heb --- phx(Phoenician)\n",
        "  heb --- can(Canaanite)\n",
        "```\n",
        "\n",
        "[^ph]: also known as *Biblical Hebrew* or *Old Hebrew*.\n",
        "\n",
        "\n",
        "### The Timeline\n",
        "\n",
        "```{mermaid}\n",
        "%%| label: fig-timeline\n",
        "%%| fig-cap: \"Brief Timeline of Hebrew Writing\"\n",
        "timeline\n",
        "  title Brief History of Hebrew Writing\n",
        "  1000 BC : The Merneptah Stele - earliest known inscription written in Hebrew.\n",
        "  500 BC : The Paleo-Hebrew script is used in the writing of the Torah and other religious texts.\n",
        "  200 AD : Aramaic becomes the dominant language of the region and Hebrew usage declines.\n",
        "  1000 AD : Hebrew is still used as a liturgical language but is no longer spoken as a native language.\n",
        "  1700s AD : The Hebrew revival movement begins, led by figures such as Moses Mendelssohn and Eliezer Ben Yehuda.\n",
        "```\n",
        "\n",
        "\n",
        "### The Alphabet\n",
        "\n",
        "> *Aleph-Beyt*\n",
        "\n",
        "#### The Letters\n",
        "\n",
        "The *Paleo-Hebrew* script was a phonetic *abjad*[^ab] used by the ancient Israelites before the adoption of the modern Hebrew (*Square*) script. It consists of 22 letters, all of which are consonants[^c]. Like modern Hebrew, it is written from right to left. Influenced by Egyptian culture before the Exodus from enslavement, features from the hieroglyphs such as the use of the *acrophonic*[^ac] principle as well as resemblance in some of the forms[^f] are readily apparent. These letters are the basis for almost every written alphabet in use today, including the Latin script used in English writing.\n",
        "\n",
        ":::{.callout-note}\n",
        "In attempt to make this project more accessible, letters will be also transliterated into the Latin script (English letters) as well as the modern Hebrew script (as in the Torah) to allow the reader to get a sense of what the letters sound like.\n",
        ":::\n",
        "\n",
        "[^ab]: explicitly, each letter represents a consonant, vowels are inferred from the context\n",
        "[^ac]: a letter is named after a spoken word representing a common object which is written as the first initial of that sound (\"A\" is for \"Apple\")\n",
        "[^c]: literally, *sounding together*\n",
        "[^f]: visible shape as it is written\n",
        "\n",
        "\n",
        "### The Verse\n",
        "\n",
        "#### 𐤁𐤓𐤀𐤔𐤉𐤕 𐤁𐤓𐤀 𐤀𐤋𐤄𐤉𐤌 𐤀𐤕 𐤄𐤔𐤌𐤉𐤌 𐤅𐤀𐤕 𐤄𐤀𐤓𐤑\n",
        "\n",
        ">In the beginning God created the heavens and the earth.\n",
        ">~ Genesis 1:1\n",
        "\n",
        "Opening a Torah today, you will be presented with modern Hebrew script:\n",
        "\n",
        ">בראשית ברא אלהים את השמים ואת הארץ\n",
        "\n",
        "Using only the Latin script that English speakers are familiar with this might read something like the following:\n",
        "\n",
        ">BRASYT BRA ALHYM AT HSMYM VAT HARZ\n",
        "\n",
        ":::{.callout-note}\n",
        "*Reminder*: Vowels are not written. The written 'A' is not a vowel.\n",
        ":::\n",
        "\n",
        "\n",
        "Procedure\n",
        "---------\n",
        "\n",
        "1. Split the verse into words.\n",
        "2. Join the words into a string of letters\n",
        "3. Multiply the number of letters and the values of each of the letters to calculate the numerator.\n",
        "4. Multiply the number of words and the sum of the values of the letters of each word to calculate the denominator.\n",
        "5. The ratio of the numerator / denominator is **an accurate approximation of $\\pi$**."
      ]
    },
    {
      "cell_type": "code",
      "metadata": {},
      "source": [
        "#| label: code-functions\n",
        "from math import prod, pi\n",
        "#from rich import print\n",
        "\n",
        "\n",
        "def forms() -> str:\n",
        "    \"\"\"\n",
        "    Return a string of all the Paleo-Hebrew `forms`.\n",
        "    \"\"\"\n",
        "    start = 0x10900\n",
        "    stop = start + 22\n",
        "    return ''.join(chr(ordinal) for ordinal in range(start, stop))\n",
        "\n",
        "def listvalues() -> list[int]:\n",
        "    \"\"\"\n",
        "    List the values of the Paleo-Hebrew letters.\n",
        "    \"\"\"\n",
        "    ones = list(range(1, 10))\n",
        "    tens = list(range(10, 100, 10))\n",
        "    hundreds = list(range(100, 1000, 100))\n",
        "    return ones + tens + hundreds\n",
        "\n",
        "def evaluate(form: str) -> int:\n",
        "    \"\"\"\n",
        "    Return value of `form`.\n",
        "    \"\"\"\n",
        "    values = dict(zip(list(forms()), listvalues()))\n",
        "    return values.get(form)\n",
        "\n",
        "def wordsum(word: str) -> int:\n",
        "    \"\"\"\n",
        "    Sum the values of letters in `word`.\n",
        "    \"\"\"\n",
        "    return sum(evaluate(letter) for letter in word)\n",
        "\n",
        "def letterproduct(letters: str) -> int:\n",
        "    \"\"\"\n",
        "    Calculate the product of the letters.\n",
        "    \"\"\"\n",
        "    return prod(evaluate(letter) for letter in letters) * len(letters)\n",
        "\n",
        "def wordproduct(words: list[str]) -> int:\n",
        "    \"\"\"\n",
        "    Calculate the product of the words.\n",
        "    \"\"\"\n",
        "    return prod(wordsum(word) for word in words) * len(words)"
      ],
      "execution_count": null,
      "outputs": []
    },
    {
      "cell_type": "markdown",
      "metadata": {},
      "source": [
        "Output\n",
        "------\n",
        "\n",
        "### Define verse."
      ]
    },
    {
      "cell_type": "code",
      "metadata": {},
      "source": [
        "VERSE = '𐤁𐤓𐤀𐤔𐤉𐤕 𐤁𐤓𐤀 𐤀𐤋𐤄𐤉𐤌 𐤀𐤕 𐤄𐤔𐤌𐤉𐤌 𐤅𐤀𐤕 𐤄𐤀𐤓𐤑'\n",
        "print(f'**{VERSE}**')"
      ],
      "execution_count": null,
      "outputs": []
    },
    {
      "cell_type": "markdown",
      "metadata": {},
      "source": [
        "### Split verse into words."
      ]
    },
    {
      "cell_type": "code",
      "metadata": {},
      "source": [
        "words = VERSE.split()\n",
        "print(f'There are **{len(words)}** words in the verse.')"
      ],
      "execution_count": null,
      "outputs": []
    },
    {
      "cell_type": "markdown",
      "metadata": {},
      "source": [
        "### String together all the letters in the verse."
      ]
    },
    {
      "cell_type": "code",
      "metadata": {},
      "source": [
        "letters = ''.join(words)\n",
        "print(f'There are **{len(letters)}** letters in the verse.')"
      ],
      "execution_count": null,
      "outputs": []
    },
    {
      "cell_type": "markdown",
      "metadata": {},
      "source": [
        "### Make a table with the letters and their corresponding values."
      ]
    },
    {
      "cell_type": "code",
      "metadata": {},
      "source": [
        "values = dict(zip(list(forms()), listvalues()))"
      ],
      "execution_count": null,
      "outputs": []
    },
    {
      "cell_type": "markdown",
      "metadata": {},
      "source": [
        "### Calculate the numerator.\n",
        "\n",
        "$Q_{N}$ : numerator\n",
        "\n",
        "$n_{L}$ : number of letters\n",
        "\n",
        "$l_{n}$ : letter value\n",
        "\n",
        "$$Q_{N} = n_{L} l_{1} l_{2} l_{3} ... l_{n}$$"
      ]
    },
    {
      "cell_type": "code",
      "metadata": {},
      "source": [
        "numerator = letterproduct(letters)\n",
        "print(f'**{numerator}**')"
      ],
      "execution_count": null,
      "outputs": []
    },
    {
      "cell_type": "markdown",
      "metadata": {},
      "source": [
        "### Calculate the denominator.\n",
        "\n",
        "$Q_{D}$ : denominator\n",
        "\n",
        "$n_{W}$ : number of words\n",
        "\n",
        "$W_{n}$ : sum of letter values of word \n",
        "\n",
        "$$Q_{D} = n_{W}W_{1} W_{2} W_{3} ... W_{n}$$"
      ]
    },
    {
      "cell_type": "code",
      "metadata": {},
      "source": [
        "denominator = wordproduct(words)\n",
        "print(f'**{denominator}**')"
      ],
      "execution_count": null,
      "outputs": []
    },
    {
      "cell_type": "markdown",
      "metadata": {},
      "source": [
        "### Calculate the quotient as the **17^th^** power.\n",
        "\n",
        "$$Q = \\frac{Q_{N}}{Q_{D}}$$"
      ]
    },
    {
      "cell_type": "code",
      "metadata": {},
      "source": [
        "result = numerator / denominator / 1E17\n",
        "print(f'Q = **{result}**')"
      ],
      "execution_count": null,
      "outputs": []
    },
    {
      "cell_type": "markdown",
      "metadata": {},
      "source": [
        "### Calculate the percentage of error."
      ]
    },
    {
      "cell_type": "code",
      "metadata": {},
      "source": [
        "error = (result - pi) * 100 / pi\n",
        "print(f'**{error}%** ~ {pi}')"
      ],
      "execution_count": null,
      "outputs": []
    },
    {
      "cell_type": "markdown",
      "metadata": {},
      "source": [
        "## Observations\n",
        "\n",
        "- There are **22** letters in the Hebrew alphabet.\n",
        "- There are **7** words in the verse.\n",
        "- **$\\frac{22}{7}$** is also an approximation of $\\pi$.\n",
        "- The Greek character denoting $\\pi$ comes directly from the Hebrew letter *Pe*.\n",
        "- *Pe* is the **17^th^** letter signifying \"mouth\", \"corner\"\n",
        "- The resulting computation is to the **17^th^** power of 10.\n",
        "- There are **28** letters in the verse.\n",
        "- **28** is the **7^th^** triangular number.\n",
        "- There are **28** zeroes in the numerator.\n",
        "\n",
        "- Number of letters in the first 3 words: **14**\n",
        "- Number of letters in the last 4 words: **14**\n",
        "- Number of letters in the 4^th^ and 5^th^ words: **7**\n",
        "- Number of letters in the 6^th^ and 7^th^ words: **7**\n",
        "- Number of letters in the keywords meaning \"God\", \"heaven\", \"earth\": **14**\n",
        "- Sum of the keywords: 86 + 395 + 296 = **777**\n",
        "- Factors for the sum of the word meaning \"created\":  \n",
        "  $2+200+1=203=$ **$7*29$**\n",
        "- Factors for the sum of the first and last letters of all **7** words:  \n",
        "  $402+3+401+45+406+95=1393=$ **$7*199$**\n",
        "- Factors for the sum of the first and last letters of the first and last    word: $402+95=497=$ **$7*71$**\n",
        "  \n",
        "\n",
        "***To be continued ...***\n"
      ]
    }
  ],
  "metadata": {
    "kernelspec": {
      "name": "python3",
      "language": "python",
      "display_name": "Python 3 (ipykernel)"
    }
  },
  "nbformat": 4,
  "nbformat_minor": 4
}