{
 "cells": [
  {
   "cell_type": "markdown",
   "id": "4bdb91e8-89f1-456a-99a1-bbc3edf3475f",
   "metadata": {},
   "source": [
    "```yaml\n",
    "title: In the Beginning\n",
    "author: mad0perator.crypto\n",
    "repo: https://github.com/mad0perator/in-the-beginning\n",
    "date: 2023-02-24\n",
    "version: \"0.0.1a\"\n",
    "```"
   ]
  },
  {
   "cell_type": "markdown",
   "id": "3a723b8e-3524-4a43-93bd-8c7661a07e44",
   "metadata": {},
   "source": [
    "# In the Beginning ...\n",
    "\n",
    "*An examination of the Genesis*\n",
    "\n",
    "-------------------------------\n",
    "\n",
    "A mythological investigation of Egyptian sermons, Biblical scripture\n",
    "as well as Babylonian and Sumerian excerpts led me to the hypothesis that\n",
    "Pi was encoded in the first chapter of Genesis.\n",
    "\n",
    "For this examination, we will focus only on demonstrable computations with\n",
    "no conjectures or conclusions."
   ]
  },
  {
   "cell_type": "markdown",
   "id": "4b63e049-e627-4412-b14c-2be27548ed30",
   "metadata": {},
   "source": [
    "## Inventory"
   ]
  },
  {
   "cell_type": "markdown",
   "id": "f0d14708-3281-4d89-a248-fbe1f5918098",
   "metadata": {},
   "source": [
    "### Libraries\n",
    "\n",
    "- Unicode Data: `unicodedata`\n",
    "- Math: `math` \n",
    "  - `pi`\n",
    "  - `prod`\n",
    "- Decimal: `decimal`\n",
    "  - `Decimal`\n",
    "  - `getcontext`"
   ]
  },
  {
   "cell_type": "code",
   "execution_count": 5,
   "id": "220e6e96-5b7d-4989-bbc9-13b29073fad3",
   "metadata": {
    "tags": []
   },
   "outputs": [],
   "source": [
    "import unicodedata\n",
    "from math import pi\n",
    "from math import prod\n",
    "from decimal import Decimal\n",
    "from decimal import getcontext"
   ]
  },
  {
   "cell_type": "markdown",
   "id": "8ef8d247-2499-431c-b4d7-3cdc9a49d1d7",
   "metadata": {},
   "source": [
    "### Letters (22)"
   ]
  },
  {
   "cell_type": "markdown",
   "id": "ce379df2-6af1-490b-a00d-d504190b46e2",
   "metadata": {},
   "source": [
    "There are 22 letters in our inventory. They are ordered by their creation and presuppose the existence of their predecessor. Each letter is a [consonant][1] initial of a word representing a common object. Vowels are not written. Combinations of letters form larger words. A good analogy to keep in mind here is [genotypes][2].\n",
    "\n",
    "In attempt to make this project more accessible, letters and words will be transliterated into English.\n",
    "\n",
    "\n",
    "\n",
    "[1]: # \"literally, *sounding together*\"\n",
    "[2]: # \"Biology\""
   ]
  },
  {
   "cell_type": "markdown",
   "id": "ffb05244-d63d-4498-be6a-2181fcab71f5",
   "metadata": {},
   "source": [
    "### Functions (10)"
   ]
  },
  {
   "cell_type": "markdown",
   "id": "e4a57858-2230-4240-bbce-49e3bcfb70b2",
   "metadata": {},
   "source": [
    "The five final forms did not exist when the verse under current examination was written. We will substitute the regular forms and values."
   ]
  },
  {
   "cell_type": "code",
   "execution_count": 6,
   "id": "dd02fa63-0b89-4dda-9edd-a904e9f2299b",
   "metadata": {
    "tags": []
   },
   "outputs": [],
   "source": [
    "def ordrange() -> list:\n",
    "    \"\"\"Return range object for Hebrew Unicode characters\\\n",
    "    \n",
    "    >>> assert validate(chr(ordinal) for ordinal in ordrange()) == True\n",
    "    \"\"\"\n",
    "    start = 1488\n",
    "    stop = 1515\n",
    "    return range(start, stop)"
   ]
  },
  {
   "cell_type": "code",
   "execution_count": 7,
   "id": "565c3d6b-bb3c-41bd-892e-dd6244f37e42",
   "metadata": {
    "tags": []
   },
   "outputs": [],
   "source": [
    "def validate(character: str) -> bool:\n",
    "    \"\"\"Is `character` a Hebrew Unicode character?\n",
    "    \n",
    "    :param character: str - hebrew unicode character\n",
    "    :return: bool - True if hebrew unicode character else False\n",
    "    >>> assert validate(chr(1488)) == True\n",
    "    >>> assert validate(\"A\") == False\n",
    "    \"\"\"\n",
    "    return len(character) == 1 and ord(character) in ordrange()"
   ]
  },
  {
   "cell_type": "code",
   "execution_count": 8,
   "id": "762b37b6-aa9f-4944-bc1a-f164bd5e7274",
   "metadata": {
    "tags": []
   },
   "outputs": [],
   "source": [
    "def regularize(character: str) -> str:\n",
    "    \"\"\"Normalize character to Hebrew regular form.\n",
    "    \n",
    "    :param character: str - hebrew unicode character\n",
    "    \"\"\"\n",
    "    lang, obj, *name = unicodedata.name(character).split()\n",
    "    if type(name) is list:  # finals will be a list with a length of 2\n",
    "        name = name.pop()   # else name will just be a string\n",
    "    name = \" \".join([lang, obj, name])  # reconstruct the name\n",
    "    return unicodedata.lookup(name)"
   ]
  },
  {
   "cell_type": "code",
   "execution_count": 9,
   "id": "813e2a1a-65f9-4219-88fe-f11c7c7fc429",
   "metadata": {
    "tags": []
   },
   "outputs": [],
   "source": [
    "def listvalues() -> list[int]:\n",
    "    \"\"\"List the values of the Hebrew letters.\"\"\"\n",
    "    ones = list(range(1, 10))\n",
    "    tens = list(range(10, 100, 10))\n",
    "    hundreds = list(range(100, 1000, 100))\n",
    "    return ones + tens + hundreds"
   ]
  },
  {
   "cell_type": "code",
   "execution_count": 10,
   "id": "5ce07664-84b8-4f99-ae69-8ae1976a8208",
   "metadata": {
    "tags": []
   },
   "outputs": [],
   "source": [
    "def listregulars() -> list[str]:\n",
    "    \"\"\"List the Hebrew regular forms.\"\"\"\n",
    "    regulars = []\n",
    "    for ordinal in ordrange():\n",
    "        character = chr(ordinal)\n",
    "        regular = regularize(character)\n",
    "        if not regular in regulars:\n",
    "            regulars.append(regular)\n",
    "    return regulars"
   ]
  },
  {
   "cell_type": "code",
   "execution_count": 11,
   "id": "0102f724-2712-4da4-8039-5bd335859f16",
   "metadata": {
    "tags": []
   },
   "outputs": [],
   "source": [
    "def valuedict() -> list:\n",
    "    \"\"\"Return a dictionary of Hebrew regular forms and their values.\"\"\"\n",
    "    return dict(zip(listregulars(), listvalues()))"
   ]
  },
  {
   "cell_type": "code",
   "execution_count": 12,
   "id": "fceeb705-583f-46bf-abe9-f22a0ee64389",
   "metadata": {
    "tags": []
   },
   "outputs": [],
   "source": [
    "def evaluate(character: str) -> int:\n",
    "    \"\"\"Return value of character\n",
    "    \n",
    "    :param character: str - hebrew unicode character\n",
    "    :return: int - value of character\n",
    "    >>> assert evaluate(chr(1488)) == 1\n",
    "    \"\"\"\n",
    "    regular = \"\"\n",
    "    if validate(character):\n",
    "        regular = regularize(character)\n",
    "        values = valuedict()\n",
    "        return values.get(regular)\n",
    "    else:\n",
    "        del character"
   ]
  },
  {
   "cell_type": "code",
   "execution_count": 13,
   "id": "b4aca92e-d133-4106-bd60-299efb2ac5a0",
   "metadata": {
    "tags": []
   },
   "outputs": [],
   "source": [
    "def add_letters(word: str) -> int:\n",
    "    \"\"\"Sum the values of the letters in a word.\n",
    "    \n",
    "    :param word: str - a hebrew word\n",
    "    :return: int - sum of values of the letters in word\n",
    "    >>> assert sum_letters(f\"{chr(1488)}{chr(1489)}\") == 3\n",
    "    \"\"\"\n",
    "    return sum(evaluate(letter) for letter in word)"
   ]
  },
  {
   "cell_type": "code",
   "execution_count": 14,
   "id": "5b5e2a62-1a91-4dfa-8035-bf154cb3319a",
   "metadata": {
    "tags": []
   },
   "outputs": [],
   "source": [
    "def wordproduct(words: list[str]) -> int:\n",
    "    \"\"\"Calculate the product of the words.\n",
    "    \n",
    "    :param words: list[str] - a list of hebrew words\n",
    "    :return: int - product of the words\n",
    "    \"\"\"\n",
    "    return prod(add_letters(word) for word in words) * len(words)"
   ]
  },
  {
   "cell_type": "code",
   "execution_count": 15,
   "id": "580708dd-3fb9-41bb-b013-cd2586555031",
   "metadata": {
    "tags": []
   },
   "outputs": [],
   "source": [
    "def letterproduct(letters: str) -> int:\n",
    "    \"\"\"Calculate the product of the letters.\n",
    "    \n",
    "    :param letters: str - a string of hebrew letters\n",
    "    :return: int - product of the letters\n",
    "    \"\"\"\n",
    "    return prod(evaluate(letter) for letter in letters) * len(letters)"
   ]
  },
  {
   "cell_type": "markdown",
   "id": "81ac0e61-5722-4a0d-aee4-7c59dd2b4b03",
   "metadata": {},
   "source": [
    "## The Verse"
   ]
  },
  {
   "cell_type": "markdown",
   "id": "c1d77ea1-161e-478d-a860-d57ab3ef5559",
   "metadata": {},
   "source": [
    "### בראשית ברא אלהים את השמים ואת הארץ\n",
    "\n",
    "[note][1]\n",
    "\n",
    "Using only the Latin alphabet this might read something like:  \n",
    "\n",
    ">*BRasYt BRa aLHYm at HsMYm Vat HaRz*\n",
    "\n",
    "[1]: #Footnote \"Hebrew is read from right to left\""
   ]
  },
  {
   "cell_type": "markdown",
   "id": "93b3c0d0-e061-4bf9-9f69-476d8f08cf7d",
   "metadata": {},
   "source": [
    "### Procedure\n",
    "\n",
    "1. Split the verse into words.\n",
    "2. Join the words into a string of letters\n",
    "3. Numerator: Multiply the number of letters and the values of each of the letters.\n",
    "4. Denominator: Multiply the number of words and the sum of the letters of each word.\n",
    "5. The ratio of the numerator / denominator is **an accurate approximation of *pi***"
   ]
  },
  {
   "cell_type": "code",
   "execution_count": 16,
   "id": "4fcd3efd-feaf-40ce-91d9-cfe947a90c1e",
   "metadata": {
    "tags": []
   },
   "outputs": [],
   "source": [
    "THE_BEGINNING = \"בראשית ברא אלהים את השמים ואת הארץ\""
   ]
  },
  {
   "cell_type": "code",
   "execution_count": 17,
   "id": "61e21abd-6087-4881-b0fc-be6067b3e766",
   "metadata": {
    "tags": []
   },
   "outputs": [
    {
     "name": "stdout",
     "output_type": "stream",
     "text": [
      "א ב ג ד ה ו ז ח ט י כ ל מ נ ס ע פ צ ק ר ש ת\n"
     ]
    }
   ],
   "source": [
    "print(*valuedict())"
   ]
  },
  {
   "cell_type": "code",
   "execution_count": 18,
   "id": "7c982a98-c6ab-4b35-a68c-5f33752aa30c",
   "metadata": {
    "tags": []
   },
   "outputs": [
    {
     "name": "stdout",
     "output_type": "stream",
     "text": [
      "Words: בראשית ברא אלהים את השמים ואת הארץ\n"
     ]
    }
   ],
   "source": [
    "# Split the words\n",
    "words = THE_BEGINNING.split()\n",
    "print(\"Words:\", *words)"
   ]
  },
  {
   "cell_type": "code",
   "execution_count": 19,
   "id": "8f2ea105-c204-42d0-b473-fcf89d326d45",
   "metadata": {
    "tags": []
   },
   "outputs": [
    {
     "name": "stdout",
     "output_type": "stream",
     "text": [
      "Letters: בראשיתבראאלהיםאתהשמיםואתהארץ\n"
     ]
    }
   ],
   "source": [
    "# String together all the letters\n",
    "letters = \"\".join(words)\n",
    "print(\"Letters:\", letters)"
   ]
  },
  {
   "cell_type": "code",
   "execution_count": 20,
   "id": "3e4c6246-07bd-4974-9814-f24a6044b5f1",
   "metadata": {
    "tags": []
   },
   "outputs": [
    {
     "name": "stdout",
     "output_type": "stream",
     "text": [
      "The product of the letters (numerator):\n",
      "668860416000000000000000000000000000\n"
     ]
    }
   ],
   "source": [
    "# Compute the numerator.\n",
    "numerator = letterproduct(letters)\n",
    "print(\"The product of the letters (numerator):\")\n",
    "print(numerator)"
   ]
  },
  {
   "cell_type": "code",
   "execution_count": 21,
   "id": "fdbae8ba-d2c4-4269-b6cd-d0ee2e5b8fd8",
   "metadata": {
    "tags": []
   },
   "outputs": [
    {
     "name": "stdout",
     "output_type": "stream",
     "text": [
      "The product of the words (denominator):\n",
      "2129074680489230320\n"
     ]
    }
   ],
   "source": [
    "# Compute the denominator.\n",
    "denominator = wordproduct(words)\n",
    "print(\"The product of the words (denominator):\")\n",
    "print(denominator)"
   ]
  },
  {
   "cell_type": "code",
   "execution_count": 22,
   "id": "39004f24-fffa-47ac-86d8-0357789513cf",
   "metadata": {
    "tags": []
   },
   "outputs": [],
   "source": [
    "# Decimal precision\n",
    "getcontext().prec = 9"
   ]
  },
  {
   "cell_type": "code",
   "execution_count": 23,
   "id": "0253abb6-b0df-448d-913c-2c8501bed62a",
   "metadata": {
    "tags": []
   },
   "outputs": [
    {
     "name": "stdout",
     "output_type": "stream",
     "text": [
      "The ratio of letter product to word product is:\n",
      "numerator / denominator\n",
      "3.14155451E+17\n"
     ]
    }
   ],
   "source": [
    "result = Decimal(numerator) / Decimal(denominator)\n",
    "print(\"The ratio of letter product to word product is:\")\n",
    "print(\"numerator / denominator\")\n",
    "print(result)"
   ]
  },
  {
   "cell_type": "code",
   "execution_count": 24,
   "id": "fd633aca-75fa-4030-abd2-86824122cbcf",
   "metadata": {
    "tags": []
   },
   "outputs": [
    {
     "name": "stdout",
     "output_type": "stream",
     "text": [
      "The percentage of error is -0.00121414817%.\n"
     ]
    }
   ],
   "source": [
    "difference = (result / Decimal(10**17)) - Decimal(pi)\n",
    "percent_error = difference * Decimal(100) / Decimal(pi)\n",
    "print(f\"The percentage of error is {percent_error}%.\")"
   ]
  },
  {
   "cell_type": "markdown",
   "id": "3333b479-ed48-4f04-b68c-e6d4a32dbb6e",
   "metadata": {
    "tags": []
   },
   "source": [
    "## Observations"
   ]
  },
  {
   "cell_type": "markdown",
   "id": "702a529f-6898-4fd2-abe9-85792f8f018a",
   "metadata": {},
   "source": [
    "- There are 22 letters in the Hebrew alphabet.\n",
    "- There are 7 words in the verse.\n",
    "- 22 / 7 is also an approximation of *Pi*.\n",
    "- The Greek character denoting *Pi* comes directly from the Hebrew letter *Pe*.\n",
    "- *Pe* is the 17th letter signifying \"mouth\", \"corner\"\n",
    "- The resulting computation is to the 17th power of 10.\n",
    "- There are 28 letters in the verse.\n",
    "- 28 is the 7th triangular number.\n",
    "- There are 28 zeroes in the numerator (`letterproduct`)"
   ]
  },
  {
   "cell_type": "code",
   "execution_count": 25,
   "id": "2142e69b-cf4b-49ac-a141-485df3b76b30",
   "metadata": {
    "tags": []
   },
   "outputs": [
    {
     "name": "stdout",
     "output_type": "stream",
     "text": [
      "Quantity of Hebrew letters: 22\n"
     ]
    }
   ],
   "source": [
    "letters = []\n",
    "for ordinal in ordrange():\n",
    "    character = chr(ordinal)\n",
    "    letter = regularize(character)\n",
    "    if not letter in letters:\n",
    "        letters.append(letter)\n",
    "print(\"Quantity of Hebrew letters:\", len(letters))"
   ]
  },
  {
   "cell_type": "code",
   "execution_count": 26,
   "id": "1ba6c8ae-fd22-45d3-a851-68ce22253a97",
   "metadata": {
    "tags": []
   },
   "outputs": [
    {
     "name": "stdout",
     "output_type": "stream",
     "text": [
      "Quantity of words in first verse: 7\n"
     ]
    }
   ],
   "source": [
    "words_in_first_verse = THE_BEGINNING.split()\n",
    "print(\"Quantity of words in first verse:\", len(words_in_first_verse))"
   ]
  },
  {
   "cell_type": "code",
   "execution_count": 27,
   "id": "bf16a0cf-3734-48fd-b1c0-430ba691d108",
   "metadata": {
    "tags": []
   },
   "outputs": [
    {
     "name": "stdout",
     "output_type": "stream",
     "text": [
      "Rough approximation of Pi: 3.142857142857142793701541449991054832935333251953125\n"
     ]
    }
   ],
   "source": [
    "rough_approx_of_pi = Decimal(22 / 7)\n",
    "print(\"Rough approximation of Pi:\", rough_approx_of_pi)"
   ]
  },
  {
   "cell_type": "code",
   "execution_count": 28,
   "id": "daac3945-c1d4-4082-b62b-0a282406456c",
   "metadata": {
    "tags": []
   },
   "outputs": [
    {
     "name": "stdout",
     "output_type": "stream",
     "text": [
      "The 17th letter is the Hebrew Letter Pe signified by פ.\n"
     ]
    }
   ],
   "source": [
    "n = 17\n",
    "i = n - 1\n",
    "letter = letters[i]\n",
    "name = unicodedata.name(letter).title()\n",
    "print(f\"The {n}th letter is the {name} signified by {letter}.\")"
   ]
  },
  {
   "cell_type": "code",
   "execution_count": 29,
   "id": "cf43ddb9-0e30-468c-ad62-3d8e8655da23",
   "metadata": {
    "tags": []
   },
   "outputs": [
    {
     "name": "stdout",
     "output_type": "stream",
     "text": [
      "Result:\n",
      "3.14155451\n"
     ]
    }
   ],
   "source": [
    "print(\"Result:\")\n",
    "print(result / 10**17)"
   ]
  },
  {
   "cell_type": "code",
   "execution_count": 30,
   "id": "7611d4f2-3eca-479b-b29f-286bec66bfdc",
   "metadata": {
    "tags": []
   },
   "outputs": [
    {
     "name": "stdout",
     "output_type": "stream",
     "text": [
      "There are 28 letters in the verse.\n",
      "Letters in the verse: בראשיתבראאלהיםאתהשמיםואתהארץ\n"
     ]
    }
   ],
   "source": [
    "letters_in_first_verse = THE_BEGINNING.replace(\" \", \"\")\n",
    "print(\"There are\", len(letters_in_first_verse), \"letters in the verse.\")\n",
    "print(\"Letters in the verse:\", letters_in_first_verse)"
   ]
  },
  {
   "cell_type": "code",
   "execution_count": 31,
   "id": "77f5fb63-920c-4d14-b94e-badf0169982d",
   "metadata": {
    "tags": []
   },
   "outputs": [
    {
     "name": "stdout",
     "output_type": "stream",
     "text": [
      "The 7th triangular number is 28\n"
     ]
    }
   ],
   "source": [
    "n = 7\n",
    "triangular_number = int(n * (n + 1) / 2)\n",
    "print(f\"The {n}th triangular number is {triangular_number}\")"
   ]
  },
  {
   "cell_type": "code",
   "execution_count": 32,
   "id": "8d92b311-caaa-4d2d-b20c-477beeb72fd2",
   "metadata": {
    "tags": []
   },
   "outputs": [
    {
     "name": "stdout",
     "output_type": "stream",
     "text": [
      "There are 28 zeroes in the numerator (letter product).\n"
     ]
    }
   ],
   "source": [
    "numstring = str(letterproduct(letters_in_first_verse))\n",
    "count = numstring.count(\"0\")\n",
    "print(f\"There are {count} zeroes in the numerator (letter product).\")"
   ]
  },
  {
   "cell_type": "markdown",
   "id": "39ad2314-afe9-4684-bbf6-9670e4de1f96",
   "metadata": {},
   "source": [
    "## Conclusion\n",
    "\n",
    "*To be continued ...*"
   ]
  }
 ],
 "metadata": {
  "kernelspec": {
   "display_name": "Python 3 (ipykernel)",
   "language": "python",
   "name": "python3"
  },
  "language_info": {
   "codemirror_mode": {
    "name": "ipython",
    "version": 3
   },
   "file_extension": ".py",
   "mimetype": "text/x-python",
   "name": "python",
   "nbconvert_exporter": "python",
   "pygments_lexer": "ipython3",
   "version": "3.10.9"
  },
  "toc-autonumbering": true,
  "toc-showcode": false,
  "toc-showtags": false
 },
 "nbformat": 4,
 "nbformat_minor": 5
}
